{
  "nbformat": 4,
  "nbformat_minor": 0,
  "metadata": {
    "colab": {
      "provenance": []
    },
    "kernelspec": {
      "name": "python3",
      "display_name": "Python 3"
    },
    "language_info": {
      "name": "python"
    }
  },
  "cells": [
    {
      "cell_type": "markdown",
      "source": [
        "Computer Vision"
      ],
      "metadata": {
        "id": "SVR-Xs2KQcAd"
      }
    },
    {
      "cell_type": "markdown",
      "source": [],
      "metadata": {
        "id": "JjYeJbdTSDVL"
      }
    },
    {
      "cell_type": "code",
      "source": [
        "import cv2 \n",
        "import numpy as np"
      ],
      "metadata": {
        "id": "r6yByl2kRo3a"
      },
      "execution_count": 1,
      "outputs": []
    },
    {
      "cell_type": "markdown",
      "source": [
        "Discrete Convolution Function"
      ],
      "metadata": {
        "id": "Qhl0AymFSAJx"
      }
    },
    {
      "cell_type": "code",
      "execution_count": 2,
      "metadata": {
        "id": "RChX02_LQZIK"
      },
      "outputs": [],
      "source": [
        "# 2D Convolution, assuming padding = 0\n",
        "def convolution_2D(image, kernel):\n",
        "\n",
        "  image_size_i = int(image.shape[0])\n",
        "  image_size_j = int(image.shape[1])\n",
        "  kernel_size_i = int(kernel.shape[0])\n",
        "  kernel_size_j = int(kernel.shape[1])\n",
        "\n",
        "  output_size_i = image_size_i - kernel_size_i + 1\n",
        "  output_size_j = image_size_j - kernel_size_j + 1\n",
        "  output = np.zeros((output_size_i, output_size_j))\n",
        "\n",
        "  for i in range(image_size_i):\n",
        "    for j in range(image_size_j):\n",
        "      if i > image_size_i - kernel_size_i or j > image_size_j - kernel_size_j:\n",
        "        continue\n",
        "      else:\n",
        "        output[i,j] = (kernel * image[i: i + kernel_size_i, j: j + kernel_size_j]).sum()\n",
        "  return output"
      ]
    },
    {
      "cell_type": "code",
      "source": [
        "Gx_kernel = np.array([[-1,0,1],[-2,0,2],[-1,0,1]])\n",
        "Gy_kernel = np.array([[1,2,1],[0,0,0],[-1,-2,-1]])\n",
        "print(Gx_kernel)\n",
        "print(Gy_kernel)"
      ],
      "metadata": {
        "colab": {
          "base_uri": "https://localhost:8080/"
        },
        "id": "nekGsVvwfQgn",
        "outputId": "07687561-d090-4c9a-8c2c-9b8f4482467c"
      },
      "execution_count": 3,
      "outputs": [
        {
          "output_type": "stream",
          "name": "stdout",
          "text": [
            "[[-1  0  1]\n",
            " [-2  0  2]\n",
            " [-1  0  1]]\n",
            "[[ 1  2  1]\n",
            " [ 0  0  0]\n",
            " [-1 -2 -1]]\n"
          ]
        }
      ]
    },
    {
      "cell_type": "code",
      "source": [
        "# Use convolution_2D to calculate Gx, Gy, gradient magnitude, gradient angle, and edge angle of the Sobel Operator\n",
        "def Sobel_Operator(image):\n",
        "  Gx_kernel = np.array([[-1,0,1],[-2,0,2],[-1,0,1]])\n",
        "  Gy_kernel = np.array([[1,2,1],[0,0,0],[-1,-2,-1]])\n",
        "  Gx = convolution_2D(image, Gx_kernel)\n",
        "  Gy = convolution_2D(image, Gy_kernel)\n",
        "  print(\"Gx matrix is \\n\", Gx)\n",
        "  print(\"Gy matrixis \\n\", Gy)\n",
        "  gradient_magnitude = np.sqrt(np.power(Gx, 2) + np.power(Gy, 2))\n",
        "  print(\"Gradient magnitude matrix is \\n\", gradient_magnitude)\n",
        "  gradient_angle = np.arctan2(Gy, Gx) * 180 / np.pi\n",
        "  print(\"Gradient angle matrix is (degrees)\\n\", gradient_angle)\n",
        "  edge_angle = gradient_angle + 90\n",
        "  print(\"Edge Angle matrix is (degrees)\\n\", edge_angle)"
      ],
      "metadata": {
        "id": "MNxmkfVvRv8i"
      },
      "execution_count": 4,
      "outputs": []
    },
    {
      "cell_type": "code",
      "source": [
        "# Test on the Sobel Operator\n",
        "image = np.array([[120,125,212,239],[90,105,180,200],[85,198,200,210],[75,212,260,195]])\n",
        "Sobel_Operator(image)"
      ],
      "metadata": {
        "colab": {
          "base_uri": "https://localhost:8080/"
        },
        "id": "pyhGgvxbg1S9",
        "outputId": "46bf56d0-9dbe-4ef3-db95-bcbaf545c54d"
      },
      "execution_count": 5,
      "outputs": [
        {
          "output_type": "stream",
          "name": "stdout",
          "text": [
            "Gx matrix is \n",
            " [[387. 316.]\n",
            " [505. 102.]]\n",
            "Gy matrixis \n",
            " [[ -99.  -20.]\n",
            " [-279. -262.]]\n",
            "Gradient magnitude matrix is \n",
            " [[399.46213838 316.63227883]\n",
            " [576.9454047  281.15476165]]\n",
            "Gradient angle matrix is (degrees)\n",
            " [[-14.34933204  -3.6214847 ]\n",
            " [-28.91956379 -68.72839108]]\n",
            "Edge Angle matrix is (degrees)\n",
            " [[75.65066796 86.3785153 ]\n",
            " [61.08043621 21.27160892]]\n"
          ]
        }
      ]
    }
  ]
}